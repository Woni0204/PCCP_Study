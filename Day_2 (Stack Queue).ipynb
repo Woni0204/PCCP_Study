{
 "cells": [
  {
   "cell_type": "markdown",
   "id": "817488df-42cb-44aa-a031-413ad3ba55da",
   "metadata": {},
   "source": [
    "# 코딩테스트 고득점 Kit"
   ]
  },
  {
   "cell_type": "markdown",
   "id": "2e42db24-09e7-472c-8124-e7b6f7ba3d66",
   "metadata": {},
   "source": [
    "## 스택/큐\n",
    "* LIFO, FIFO, Push & pop! 스택과 큐를 이용해서 문제를 풀어보세요."
   ]
  },
  {
   "cell_type": "markdown",
   "id": "4ad3a50f-a208-48a2-81c9-cc64a5f04153",
   "metadata": {},
   "source": [
    "### Level 1\n",
    "#### 같은 숫자는 싫어"
   ]
  },
  {
   "cell_type": "markdown",
   "id": "8e0d1e29-3a99-48bb-9adb-83a31dec704d",
   "metadata": {},
   "source": [
    "##### 문제 설명\n",
    "* 배열 arr가 주어집니다. 배열 arr의 각 원소는 숫자 0부터 9까지로 이루어져 있습니다. 이때, 배열 arr에서 연속적으로 나타나는 숫자는 하나만 남기고 전부 제거하려고 합니다. 단, 제거된 후 남은 수들을 반환할 때는 배열 arr의 원소들의 순서를 유지해야 합니다. 예를 들면,\n",
    "  - arr = [1, 1, 3, 3, 0, 1, 1] 이면 [1, 3, 0, 1]을 return 합니다.\n",
    "  - arr = [4, 4, 4, 3, 3]이면 [4, 3]을 return 합니다.\n",
    "* 배열 arr에서 연속적으로 나타나는 숫자는 제거하고 남은 수들을 return 하는 solution 함수를 완성해 주세요."
   ]
  },
  {
   "cell_type": "markdown",
   "id": "3ca20b07-3985-4667-84a7-dd95f406db5b",
   "metadata": {},
   "source": [
    "##### 제한사항\n",
    "* 배열 arr의 크기 : 1,000,000 이하의 자연수\n",
    "* 배열 arr의 원소의 크기 : 0보다 크거나 같고 9보다 작거나 같은 정수"
   ]
  },
  {
   "cell_type": "code",
   "execution_count": 1,
   "id": "c6dcfce0-1963-41b6-993b-5cd9eb97df18",
   "metadata": {},
   "outputs": [],
   "source": [
    "def solution(arr):\n",
    "    # answer 리스트 초기화\n",
    "    answer = []\n",
    "    # 해당 배열 반복\n",
    "    for i in arr:\n",
    "        # 처음에 아무것도 없거나, 순회하였을 때 없는 경우 추가\n",
    "        if len(answer) == 0 or answer[-1] != i:\n",
    "            answer.append(i)\n",
    "    return answer"
   ]
  },
  {
   "cell_type": "code",
   "execution_count": 2,
   "id": "21135a91-3f15-4bc3-bb6e-6992f50ff46a",
   "metadata": {},
   "outputs": [
    {
     "name": "stdout",
     "output_type": "stream",
     "text": [
      "[1, 3, 0, 1]\n",
      "[4, 3]\n"
     ]
    }
   ],
   "source": [
    "# 입출력 예\n",
    "arr1 = [1, 1, 3, 3, 0, 1, 1]\n",
    "arr2 = [4, 4, 4, 3, 3]\n",
    "\n",
    "print(solution(arr1))\n",
    "print(solution(arr2))"
   ]
  },
  {
   "cell_type": "markdown",
   "id": "f30baddb-144a-4c04-8113-c7f69244191a",
   "metadata": {},
   "source": [
    "# Solved ac"
   ]
  },
  {
   "cell_type": "markdown",
   "id": "1005651c-64ba-4780-b824-1bec840ed281",
   "metadata": {},
   "source": [
    "## 스택"
   ]
  },
  {
   "cell_type": "markdown",
   "id": "cc150b8e-66a8-4635-aabe-2a1046e4fc4b",
   "metadata": {},
   "source": [
    "12605번 단어순서 뒤집기"
   ]
  },
  {
   "cell_type": "markdown",
   "id": "49047f7a-0938-458a-bceb-6ae55032d678",
   "metadata": {},
   "source": [
    "##### 문제\n",
    "* 스페이스로 띄어쓰기 된 단어들의 리스트가 주어질때, 단어들을 반대 순서로 뒤집어라. 각 라인ㅇ은 w개의 영단어로 이루어져 있으며, 총 L개의 알파벳을 가진다. 각 행은 알파벳과 스페이스로만 이루어져 있다. 단어 사이에는 하나의 스페이스만 들어간다."
   ]
  },
  {
   "cell_type": "markdown",
   "id": "f60c618f-55d7-4be3-9e9f-6305585d9d1a",
   "metadata": {},
   "source": [
    "##### 입력\n",
    "* 첫 행은 N이며, 전체 케이스의 개수이다.\n",
    "* N개의 케이스들이 이어지는데, 각 케이스는 스페이스로 띄어진 단어들이다. 스페이스는 라인의 처음과 끝에는 나타나지 않는다. N과 L은 다음 범위를 가진다.\n",
    "    - N = 5\n",
    "    - 1 $\\le$ L $\\le$ 25"
   ]
  },
  {
   "cell_type": "markdown",
   "id": "563e7863-3af2-435d-891e-3a26adc6193f",
   "metadata": {},
   "source": [
    "##### 출력\n",
    "* 각 케이스에 대해서, 케이스 번호가 x일때 \"Case #x: \"를 출력한 후 그 후에 이어서 단어들을 반대 순서로 출력한다."
   ]
  },
  {
   "cell_type": "code",
   "execution_count": 3,
   "id": "807f13e6-5677-42ab-b521-8ce040849db9",
   "metadata": {},
   "outputs": [
    {
     "name": "stdin",
     "output_type": "stream",
     "text": [
      " 3\n",
      " this is a test\n"
     ]
    },
    {
     "name": "stdout",
     "output_type": "stream",
     "text": [
      "Case #1: test a is this\n"
     ]
    },
    {
     "name": "stdin",
     "output_type": "stream",
     "text": [
      " foobar\n"
     ]
    },
    {
     "name": "stdout",
     "output_type": "stream",
     "text": [
      "Case #2: foobar\n"
     ]
    },
    {
     "name": "stdin",
     "output_type": "stream",
     "text": [
      " all your base\n"
     ]
    },
    {
     "name": "stdout",
     "output_type": "stream",
     "text": [
      "Case #3: base your all\n"
     ]
    }
   ],
   "source": [
    "for i in range(int(input())):\n",
    "    c = input().split()\n",
    "    print(f\"Case #{i+1}: {' '.join(c[::-1])}\")"
   ]
  },
  {
   "cell_type": "markdown",
   "id": "937d3333-6d3e-4099-b836-df61a5c2a22b",
   "metadata": {},
   "source": [
    "## 큐"
   ]
  },
  {
   "cell_type": "markdown",
   "id": "370c7b8f-ab1c-4b7f-85e3-49c39307ae63",
   "metadata": {},
   "source": [
    "2161번 카드1"
   ]
  },
  {
   "cell_type": "markdown",
   "id": "9b0652ce-bdbb-480b-99ee-c5265e8fc808",
   "metadata": {},
   "source": [
    "##### 문제\n",
    "* N장의 카드가 있다. 각각의 카드는 차례로 1부터 N까지의 번호가 붙어 있으며, 1번 카드가 제일 위에, N번 카드가 제일 아래인 상태로 순서대로 카드가 놓여 있다.\n",
    "* 이제 다음과 같은 동작을 카드가 한 장 남을 때까지 반복하게 된다. 우선, 제일 위에 있는 카드를 바닥에 버린다. 그 다음, 제일 위에 있는 카드를 제일 아래에 있는 카드 밑으로 옮긴다.\n",
    "* 예를 들어 N=4인 경우를 생각해 보자. 카드는 제일 위에서부터 1234 의 순서로 놓여있다. 여기서 2를 제일 아래로 옮기면 342가 된다. 3을 버리면 42가 되고, 4를 밑으로 옮기면 24가 된다. 마지막으로 2를 버리고 나면, 버린 카드들은 순서대로 1 3 2가 되고, 남는 카드는 4가 된다.\n",
    "* N이 주어졌을 때, 버린 카드들을 순서대로 출력하고, 마지막에 남게 되는 카드를 출력하는 프로그램을 작성하시오."
   ]
  },
  {
   "cell_type": "markdown",
   "id": "b8e8c610-051a-4e53-bb15-ee5e6753618c",
   "metadata": {},
   "source": [
    "##### 입력\n",
    "* 첫째 줄에 정수 N(1 $\\le$ N $\\le$ 1,000)이 주어진다."
   ]
  },
  {
   "cell_type": "markdown",
   "id": "795cde9f-49c6-4469-9e83-c22c7d2de8e0",
   "metadata": {},
   "source": [
    "##### 출력\n",
    "* 첫째 줄에 버리는 카드들을 순서대로 출력한다. 제일 마지막에는 남게 되는 카드의 번호를 출력한다."
   ]
  },
  {
   "cell_type": "code",
   "execution_count": 4,
   "id": "e1f2a131-f3a6-4f7e-9984-2c57d080c6c9",
   "metadata": {},
   "outputs": [
    {
     "name": "stdin",
     "output_type": "stream",
     "text": [
      " 7\n"
     ]
    },
    {
     "name": "stdout",
     "output_type": "stream",
     "text": [
      "1 3 5 7 4 2 6\n"
     ]
    }
   ],
   "source": [
    "# N장의 카드 개수\n",
    "n = int(input())\n",
    "# 배열 초기화\n",
    "arr = []\n",
    "\n",
    "# list comprehension을 이용하여 카드 선택\n",
    "card = [i for i in range(1, n + 1)]\n",
    "\n",
    "# 카드의 길이가 1이 되기 전까지 반복\n",
    "while len(card) != 1:\n",
    "    # card에서 pop 된 것을 추가\n",
    "    arr.append(card.pop(0)) \n",
    "    # 마찬가지로 pop 된 것을 추가\n",
    "    card.append(card.pop(0)) \n",
    "\n",
    "# 저장해둔 배열 출력ㄱ\n",
    "for j in arr:\n",
    "    print(j, end=' ')\n",
    "\n",
    "# 남아있는 한 가지 추가\n",
    "print(card[0])"
   ]
  },
  {
   "cell_type": "code",
   "execution_count": null,
   "id": "558e7450-2af2-4020-84e6-c4d6c06963ec",
   "metadata": {},
   "outputs": [],
   "source": []
  }
 ],
 "metadata": {
  "kernelspec": {
   "display_name": "justice",
   "language": "python",
   "name": "justice"
  },
  "language_info": {
   "codemirror_mode": {
    "name": "ipython",
    "version": 3
   },
   "file_extension": ".py",
   "mimetype": "text/x-python",
   "name": "python",
   "nbconvert_exporter": "python",
   "pygments_lexer": "ipython3",
   "version": "3.8.0"
  }
 },
 "nbformat": 4,
 "nbformat_minor": 5
}
