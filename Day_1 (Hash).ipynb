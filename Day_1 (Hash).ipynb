{
 "cells": [
  {
   "cell_type": "markdown",
   "id": "27f5b109-e09c-4fea-8943-b56140696924",
   "metadata": {},
   "source": [
    "# 코딩테스트 고득점 Kit"
   ]
  },
  {
   "cell_type": "markdown",
   "id": "4a6e8ad9-1fa8-4215-b01c-ed35ba31090d",
   "metadata": {},
   "source": [
    "## 해시\n",
    "* Key-value쌍으로 데이터를 빠르게 찾아보세요."
   ]
  },
  {
   "cell_type": "markdown",
   "id": "f0262ec8-4791-45d1-9fc7-3374c33e0bbf",
   "metadata": {},
   "source": [
    "### Level 1\n",
    "#### 폰켓몬"
   ]
  },
  {
   "cell_type": "markdown",
   "id": "8b8abdd2-72b2-403c-9ccb-fb48375a5dfb",
   "metadata": {},
   "source": [
    "##### 문제 설명\n",
    "* 당신은 폰켓몬을 잡기 위한 오랜 여행 끝에, 홍 박사님의 연구실에 도착했습니다. 홍 박사님은 당신에게 자신의 연구실에 있는 총 N 마리의 폰켓몬 중에서 N/2마리를 가져가도 좋다고 했습니다.\n",
    "홍 박사님 연구실의 폰켓몬은 종류에 따라 번호를 붙여 구분합니다. 따라서 같은 종류의 폰켓몬은 같은 번호를 가지고 있습니다. 예를 들어 연구실에 총 4마리의 폰켓몬이 있고, 각 폰켓몬의 종류 번호가 [3번, 1번, 2번, 3번]이라면 이는 3번 폰켓몬 두 마리, 1번 폰켓몬 한 마리, 2번 폰켓몬 한 마리가 있음을 나타냅니다. 이때, 4마리의 폰켓몬 중 2마리를 고르는 방법은 다음과 같이 6가지가 있습니다."
   ]
  },
  {
   "cell_type": "markdown",
   "id": "4fd65c71-7514-4796-bf8d-5454f62821a4",
   "metadata": {},
   "source": [
    "1. 첫 번째(3번), 두 번째(1번) 폰켓몬을 선택\n",
    "2. 첫 번째(3번), 세 번째(2번) 폰켓몬을 선택\n",
    "3. 첫 번째(3번), 네 번째(3번) 폰켓몬을 선택\n",
    "4. 두 번째(1번), 세 번째(2번) 폰켓몬을 선택\n",
    "5. 두 번째(1번), 네 번째(3번) 폰켓몬을 선택\n",
    "6. 세 번째(2번), 네 번째(3번) 폰켓몬을 선택"
   ]
  },
  {
   "cell_type": "markdown",
   "id": "27fcc587-0847-4a45-854e-3cb3fef8ba15",
   "metadata": {},
   "source": [
    "* 이때, 첫 번째(3번) 폰켓몬과 네 번째(3번) 폰켓몬을 선택하는 방법은 한 종류(3번 폰켓몬 두 마리)의 폰켓몬만 가질 수 있지만, 다른 방법들은 모두 두 종류의 폰켓몬을 가질 수 있습니다. 따라서 위 예시에서 가질 수 있는 폰켓몬 종류 수의 최댓값은 2가 됩니다.\n",
    "당신은 최대한 다양한 종류의 폰켓몬을 가지길 원하기 때문에, 최대한 많은 종류의 폰켓몬을 포함해서 N/2마리를 선택하려 합니다. N마리 폰켓몬의 종류 번호가 담긴 배열 nums가 매개변수로 주어질 때, N/2마리의 폰켓몬을 선택하는 방법 중, 가장 많은 종류의 폰켓몬을 선택하는 방법을 찾아, 그때의 폰켓몬 종류 번호의 개수를 return 하도록 solution 함수를 완성해주세요."
   ]
  },
  {
   "cell_type": "markdown",
   "id": "7dcb3b76-cbd9-41f3-82d4-5b4ace81fff4",
   "metadata": {},
   "source": [
    "##### 제한사항\n",
    "* nums는 폰켓몬의 종류 번호가 담긴 1차원 배열입니다.\n",
    "* nums의 길이(N)는 1 이상 10,000 이하의 자연수이며, 항상 짝수로 주어집니다.\n",
    "* 폰켓몬의 종류 번호는 1 이상 200,000 이하의 자연수로 나타냅니다.\n",
    "* 가장 많은 종류의 폰켓몬을 선택하는 방법이 여러 가지인 경우에도, 선택할 수 있는 폰켓몬 종류 개수의 최댓값 하나만 return 하면 됩니다."
   ]
  },
  {
   "cell_type": "code",
   "execution_count": 6,
   "id": "6a99632e-84e3-4333-9fcd-c335180a5acc",
   "metadata": {},
   "outputs": [],
   "source": [
    "def solution(nums):\n",
    "    # 폰켓몬의 중복을 제거하기 위해 set(집합) 사용.\n",
    "    # set(nums)로 nums 배열에 존재하는 폰켓몬 종류 번호 집합 생성.\n",
    "    # len(set(nums)로 중복을 제거한 폰켓몬 종류의 수를 계산.\n",
    "\n",
    "    # N/2마리의 폰켓몬을 선택 가능.\n",
    "    # nums의 길이는 N이며, N은 항상 짝수이기에 N/2는 가져갈 수 있는 최대 폰켓몬 수.\n",
    "\n",
    "    # 폰켓몬의 최대 종류의 수를 선택하기 위해서는 고유한 폰켓몬 종류 수와 N/2 중 더 작은 값을 선택.\n",
    "    # 이는 선택 가능한 폰켓몬의 최대 종류 수를 보장하는 논리.\n",
    "    # 만약 고유한 종류의 수가 N/2보다 적다면 모든 고유한 종류를 가져갈 수 있고,\n",
    "    # 반대로 고유한 종류의 수가 N/2 이상이라면, N/2종류만큼 가져가는 것이 최적.\n",
    "    return min(len(set(nums)), len(nums)//2)  "
   ]
  },
  {
   "cell_type": "code",
   "execution_count": 7,
   "id": "2cfc4e43-62b4-4369-81de-e23c23ff60bc",
   "metadata": {},
   "outputs": [
    {
     "name": "stdout",
     "output_type": "stream",
     "text": [
      "2\n",
      "3\n",
      "2\n"
     ]
    }
   ],
   "source": [
    "# 입출력 예\n",
    "nums1 = [3, 1, 2, 3]\n",
    "nums2 = [3, 3, 3, 2, 2, 4]\n",
    "nums3 = [3, 3, 3, 2, 2, 2]\n",
    "\n",
    "print(solution(nums1))\n",
    "print(solution(nums2))\n",
    "print(solution(nums3))"
   ]
  },
  {
   "cell_type": "markdown",
   "id": "f6b2e4e6-92f9-426c-9140-abb17948cd38",
   "metadata": {},
   "source": [
    "### Level 1\n",
    "#### 완주하지 못한 선수"
   ]
  },
  {
   "cell_type": "markdown",
   "id": "86e701ed-1eeb-4a20-8b57-18700a10b5bd",
   "metadata": {},
   "source": [
    "##### 문제 설명\n",
    "* 수많은 마라톤 선수들이 마라톤에 참여하였습니다. 단 한 명의 선수를 제외하고는 모든 선수가 마라톤을 완주하였습니다.\n",
    "\n",
    "* 마라톤에 참여한 선수들의 이름이 담긴 배열 participant와 완주한 선수들의 이름이 담긴 배열 completion이 주어질 때, 완주하지 못한 선수의 이름을 return 하도록 solution 함수를 작성해주세요."
   ]
  },
  {
   "cell_type": "markdown",
   "id": "4e47168b-12c8-45ae-b660-b9a8b7ad2e46",
   "metadata": {},
   "source": [
    "##### 제한사항\n",
    "* 마라톤 경기에 참여한 선수의 수는 1명 이상 100,000명 이하입니다.\n",
    "* completion의 길이는 participant의 길이보다 1 작습니다.\n",
    "* 참가자의 이름은 1개 이상 20개 이하의 알파벳 소문자로 이루어져 있습니다.\n",
    "* 참가자 중에는 동명이인이 있을 수 있습니다."
   ]
  },
  {
   "cell_type": "code",
   "execution_count": null,
   "id": "af4737b4-a7ff-41fa-916b-00a8226f1f8e",
   "metadata": {},
   "outputs": [],
   "source": [
    "import collections\n",
    "\n",
    "def solution(participant, completion):\n",
    "    # participant 배열을 Counter로 변환하여 각 선수 이름의 등장 횟수를 셈.\n",
    "    # 예를 들어, participant가 ['leo', 'kiki', 'leo']라면, Counter는 {'leo': 2, 'kiki': 1}\n",
    "    participant_counter = collections.Counter(participant)\n",
    "\n",
    "    # completion 배열을 Counter로 변환하여 각 완주한 선수의 등장 횟수를 셈.\n",
    "    # 예를 들어, completion이 ['eden', 'kiki']라면, Counter는 {'eden': 1, 'kiki': 1}\n",
    "    completion_counter = collections.Counter(completion)\n",
    "\n",
    "    # 두 Counter 객체의 차집합을 구함.\n",
    "    # 차집합을 구할 때는 각 이름의 등장 횟수 차이를 계산함.\n",
    "    # 예를 들어, {'leo': 2, 'kiki': 1} - {'leo': 1, 'kiki': 1}은 {'leo': 1}\n",
    "    # 이는 'leo'가 완주하지 못했음을 의미합니다.\n",
    "    answer = participant_counter - completion_counter\n",
    "\n",
    "    # 차집합의 결과로 남은 key는 완주하지 못한 선수의 이름.\n",
    "    # list(answer.keys())[0]를 통해 그 이름을 가져와 반환.\n",
    "    return list(answer.keys())[0]"
   ]
  },
  {
   "cell_type": "markdown",
   "id": "24f5c7a0-0c5b-47b5-bef8-0cc12b73cdca",
   "metadata": {},
   "source": [
    "# Solved ac"
   ]
  },
  {
   "cell_type": "markdown",
   "id": "f073faea-86ef-46d7-bc5c-46c85f5099a1",
   "metadata": {},
   "source": [
    "## 해시를 사용한 집합과 맵(hash_set)"
   ]
  },
  {
   "cell_type": "markdown",
   "id": "e17028b6-d50c-459d-9d9d-0b95b50ce6a0",
   "metadata": {},
   "source": [
    "11531번 : ACM 대회 채점"
   ]
  },
  {
   "cell_type": "markdown",
   "id": "92c9f213-582e-43d9-a4c7-3e0375e643cd",
   "metadata": {},
   "source": [
    "##### 문제\n",
    "* 이 대회의 채점 프로그램은 각 팀별로 시간 순서대로 쌓인 제출 로그를 분석하여 결과를 낸다. 각각의 로그는 제출 시각, 문제 이름, 제출 결과(통과, 실패)를 포함하고 있다. 예를 들어, 어떤 팀의 가상 제출 로그가 아래와 같다고 하자."
   ]
  },
  {
   "cell_type": "markdown",
   "id": "b69435cb-0d1e-4f03-be2b-e589ea3f4b30",
   "metadata": {},
   "source": [
    "```\n",
    "3 E right\n",
    "10 A wrong\n",
    "30 C wrong\n",
    "50 B wrong\n",
    "100 A wrong\n",
    "200 A right\n",
    "250 C wrong\n",
    "300 D right\n",
    "```"
   ]
  },
  {
   "cell_type": "markdown",
   "id": "b8c54085-122f-45d3-9923-7577d72c926a",
   "metadata": {},
   "source": [
    "* 팀의 순위를 산정하기 위한 점수는 푼 문제 수를 우선으로, 푼 문제 수가 같다면 페널티를 기준으로 매겨진다. 페널티는 푼 문제에 대해서만 매겨지며, 문제를 맞힌 시각 + 틀린 횟수*20으로 정해진다. 만일 아무 문제도 풀지 못했다면 페널티는 0이다.\n",
    "\n",
    "* 위의 예제에서, 우리는 이 팀이 세 개의 문제를 해결했음을 알 수가 있다. 대회 시각 3분째에 첫 제출로 문제 E를 해결했으며, 문제 A에 대해서는 세 번을 제출하여 200분째에 정답을 받았고, 문제 D는 300분째에 한 번의 제출로 해결하였다. 위 로그를 기반으로 산정한 페널티는 543이 되는데, 이는 E를 해결한 시각 3과 A를 해결한 시각 200, A를 두 번 틀린 페널티 40, D를 해결한 시각 300을 더한 값이다. 문제 B와 C에 대해서도 제출 기록은 있지만, 해결하지 못했으므로 페널티에는 영향을 주지 않았다.\n",
    "\n",
    "* 대회 룰에 따르면, 만일 팀이 어떤 문제를 해결했다면 그 문제에 대한 추가적인 제출은 모두 무시된다(따라서 로그에도 남지 않는다). 제출 시각이 연속적으로 기록되지 않고 이산화되어있기 때문에, 같은 시각에 여러 제출이 있을 수도 있다. 하지만 제출 자체는 시간 순으로 이루어졌으므로, 같은 시각에 같은 문제를 제출한 로그가 남아 있다면 마지막 제출을 제외한 모든 제출은 오답이었을 것이다.\n",
    "\n",
    "* 두 번째 예시로, 아래의 제출 로그를 보자."
   ]
  },
  {
   "cell_type": "markdown",
   "id": "e5ef305a-fb65-4075-a4d5-ba3ebcdb82fb",
   "metadata": {},
   "source": [
    "```\n",
    "7 H right\n",
    "15 B wrong\n",
    "30 E wrong\n",
    "35 E right\n",
    "80 B wrong\n",
    "80 B right\n",
    "100 D wrong\n",
    "100 C wrong\n",
    "300 C right\n",
    "300 D wrong\n",
    "```"
   ]
  },
  {
   "cell_type": "markdown",
   "id": "5fa3b24d-8d31-40c6-b82f-2088d5cbfe6a",
   "metadata": {},
   "source": [
    "* 위 팀은 4개의 문제를 해결했으며, 총 페널티는 502가 된다. 이는 H번에 대해 7, E번에 대해 35+20, B번에 대해 80+40, C번에 대해 300+20을 합산한 값이다."
   ]
  },
  {
   "cell_type": "markdown",
   "id": "9cb6748a-aa92-44ea-9e78-bae736a04dd7",
   "metadata": {},
   "source": [
    "##### 입력\n",
    "* 로그가 n줄에 걸쳐 주어진다. (0 ≤ n ≤ 100)\n",
    "\n",
    "* 각 로그는 공백으로 구분된 세 파트로 이루어지며, 정수 m, 문제 이름, 결과를 의미한다. (0 ≤ m ≤ 300, 문제 이름은 알파벳 대문자, 결과는 \"right\" 또는 \"wrong\")\n",
    "\n",
    "* 로그는 제출 시각이 감소하지 않는 순서로 주어지며, 동일한 시각에 제출된 로그가 여러 개일 수도 있다.\n",
    "\n",
    "* 모든 로그가 주어진 뒤 마지막 줄엔 정수 -1 하나가 주어진다."
   ]
  },
  {
   "cell_type": "code",
   "execution_count": 9,
   "id": "8d6caaa6-0735-4d6e-b64c-b944ada1e26d",
   "metadata": {},
   "outputs": [
    {
     "name": "stdin",
     "output_type": "stream",
     "text": [
      " 3 E right\n",
      " 10 A wrong\n",
      " 30 C wrong\n",
      " 50 B wrong\n",
      " 100 A wrong\n",
      " 200 A right\n",
      " 250 C wrong\n",
      " 300 D right\n",
      " -1\n"
     ]
    },
    {
     "name": "stdout",
     "output_type": "stream",
     "text": [
      "3 543\n"
     ]
    }
   ],
   "source": [
    "def calculate_penalty(logs):\n",
    "    # 문제별 정보 저장을 위한 딕셔너리 초기화\n",
    "    problem_status = {}\n",
    "    total_solved = 0\n",
    "    total_penalty = 0\n",
    "\n",
    "    # 로그 순회\n",
    "    for log in logs:\n",
    "        # 제출 시각, 문제 이름, 제출 결과 분리\n",
    "        time, problem, result = log.split()\n",
    "        time = int(time)\n",
    "\n",
    "        # 문제 정보가 없다면 초기화\n",
    "        if problem not in problem_status:\n",
    "            problem_status[problem] = {'wrong_attempts': 0, 'solved': False}\n",
    "\n",
    "        # 이미 풀린 문제는 무시\n",
    "        if problem_status[problem]['solved']:\n",
    "            continue\n",
    "\n",
    "        if result == 'wrong':\n",
    "            # 틀린 제출이면 틀린 횟수 증가\n",
    "            problem_status[problem]['wrong_attempts'] += 1\n",
    "        elif result == 'right':\n",
    "            # 맞춘 경우 페널티 계산 및 문제 해결 처리\n",
    "            total_solved += 1\n",
    "            penalty = time + (problem_status[problem]['wrong_attempts'] * 20)\n",
    "            total_penalty += penalty\n",
    "            problem_status[problem]['solved'] = True\n",
    "\n",
    "    return total_solved, total_penalty\n",
    "\n",
    "# 입력 처리\n",
    "logs = []\n",
    "while True:\n",
    "    log = input().strip()\n",
    "    if log == '-1':\n",
    "        break\n",
    "    logs.append(log)\n",
    "\n",
    "# 결과 계산 및 출력\n",
    "solved, penalty = calculate_penalty(logs)\n",
    "print(solved, penalty)"
   ]
  },
  {
   "cell_type": "code",
   "execution_count": null,
   "id": "715bb9fb-a74f-4693-808c-9cac22e84667",
   "metadata": {},
   "outputs": [],
   "source": []
  }
 ],
 "metadata": {
  "kernelspec": {
   "display_name": "Python 3 (ipykernel)",
   "language": "python",
   "name": "python3"
  },
  "language_info": {
   "codemirror_mode": {
    "name": "ipython",
    "version": 3
   },
   "file_extension": ".py",
   "mimetype": "text/x-python",
   "name": "python",
   "nbconvert_exporter": "python",
   "pygments_lexer": "ipython3",
   "version": "3.8.0"
  }
 },
 "nbformat": 4,
 "nbformat_minor": 5
}
